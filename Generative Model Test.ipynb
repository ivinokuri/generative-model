{
 "cells": [
  {
   "cell_type": "code",
   "execution_count": 14,
   "metadata": {},
   "outputs": [
    {
     "name": "stderr",
     "output_type": "stream",
     "text": [
      "┌ Info: Precompiling DataFrames [a93c6f00-e57d-5684-b7b6-d8193f3e46c0]\n",
      "└ @ Base loading.jl:1278\n"
     ]
    }
   ],
   "source": [
    "using CSV\n",
    "using DataFrames"
   ]
  },
  {
   "cell_type": "code",
   "execution_count": 16,
   "metadata": {},
   "outputs": [
    {
     "name": "stdout",
     "output_type": "stream",
     "text": [
      "/Users/igorvinokur/Development/Dev/Study/generative-model/data.csv"
     ]
    }
   ],
   "source": [
    "CURRENT_DIR = pwd()\n",
    "CSV_PATH = CURRENT_DIR * \"/data.csv\"\n",
    "print(CSV_PATH)"
   ]
  },
  {
   "cell_type": "code",
   "execution_count": 20,
   "metadata": {},
   "outputs": [
    {
     "data": {
      "text/html": [
       "<table class=\"data-frame\"><thead><tr><th></th><th>Counter(/clock)</th><th>Mean_Consecutive(/clock)</th><th>Messages-Age(/clock)</th><th>Counter(/host_diagnostic)</th></tr><tr><th></th><th>Int64</th><th>Float64</th><th>Int64</th><th>Int64</th></tr></thead><tbody><p>334 rows × 112 columns (omitted printing of 108 columns)</p><tr><th>1</th><td>94</td><td>0.00300593</td><td>0</td><td>2</td></tr><tr><th>2</th><td>1054</td><td>0.000875347</td><td>0</td><td>2</td></tr><tr><th>3</th><td>869</td><td>0.001151</td><td>0</td><td>2</td></tr><tr><th>4</th><td>877</td><td>0.00113992</td><td>0</td><td>1</td></tr><tr><th>5</th><td>925</td><td>0.0010809</td><td>0</td><td>2</td></tr><tr><th>6</th><td>914</td><td>0.00109171</td><td>0</td><td>2</td></tr><tr><th>7</th><td>952</td><td>0.00103806</td><td>0</td><td>2</td></tr><tr><th>8</th><td>918</td><td>0.00107649</td><td>0</td><td>2</td></tr><tr><th>9</th><td>951</td><td>0.00104903</td><td>0</td><td>2</td></tr><tr><th>10</th><td>944</td><td>0.00105915</td><td>0</td><td>2</td></tr><tr><th>11</th><td>963</td><td>0.00103827</td><td>0</td><td>2</td></tr><tr><th>12</th><td>950</td><td>0.00105097</td><td>0</td><td>1</td></tr><tr><th>13</th><td>954</td><td>0.00104724</td><td>0</td><td>2</td></tr><tr><th>14</th><td>944</td><td>0.0010571</td><td>0</td><td>2</td></tr><tr><th>15</th><td>949</td><td>0.00105245</td><td>0</td><td>2</td></tr><tr><th>16</th><td>938</td><td>0.00106575</td><td>0</td><td>2</td></tr><tr><th>17</th><td>979</td><td>0.00102116</td><td>0</td><td>2</td></tr><tr><th>18</th><td>945</td><td>0.00105851</td><td>0</td><td>2</td></tr><tr><th>19</th><td>934</td><td>0.00107108</td><td>0</td><td>2</td></tr><tr><th>20</th><td>917</td><td>0.00109025</td><td>0</td><td>2</td></tr><tr><th>21</th><td>955</td><td>0.0010439</td><td>0</td><td>1</td></tr><tr><th>22</th><td>951</td><td>0.00105203</td><td>0</td><td>2</td></tr><tr><th>23</th><td>913</td><td>0.00109535</td><td>0</td><td>2</td></tr><tr><th>24</th><td>941</td><td>0.00106277</td><td>0</td><td>2</td></tr><tr><th>25</th><td>953</td><td>0.0010463</td><td>0</td><td>2</td></tr><tr><th>26</th><td>820</td><td>0.00120837</td><td>0</td><td>2</td></tr><tr><th>27</th><td>1044</td><td>0.000950767</td><td>0</td><td>2</td></tr><tr><th>28</th><td>896</td><td>0.0011166</td><td>0</td><td>1</td></tr><tr><th>29</th><td>853</td><td>0.00116983</td><td>0</td><td>2</td></tr><tr><th>30</th><td>852</td><td>0.00109359</td><td>0</td><td>2</td></tr><tr><th>&vellip;</th><td>&vellip;</td><td>&vellip;</td><td>&vellip;</td><td>&vellip;</td></tr></tbody></table>"
      ],
      "text/plain": [
       "\u001b[1m334×112 DataFrame\u001b[0m\n",
       "\u001b[1m Row \u001b[0m│\u001b[1m Counter(/clock) \u001b[0m\u001b[1m Mean_Consecutive(/clock) \u001b[0m\u001b[1m Messages-Age(/clock) \u001b[0m\u001b[1m Counte\u001b[0m ⋯\n",
       "\u001b[1m     \u001b[0m│\u001b[90m Int64           \u001b[0m\u001b[90m Float64                  \u001b[0m\u001b[90m Int64                \u001b[0m\u001b[90m Int64 \u001b[0m ⋯\n",
       "─────┼──────────────────────────────────────────────────────────────────────────\n",
       "   1 │              94               0.00300593                      0         ⋯\n",
       "   2 │            1054               0.000875347                     0\n",
       "   3 │             869               0.001151                        0\n",
       "   4 │             877               0.00113992                      0\n",
       "   5 │             925               0.0010809                       0         ⋯\n",
       "   6 │             914               0.00109171                      0\n",
       "   7 │             952               0.00103806                      0\n",
       "   8 │             918               0.00107649                      0\n",
       "   9 │             951               0.00104903                      0         ⋯\n",
       "  10 │             944               0.00105915                      0\n",
       "  11 │             963               0.00103827                      0\n",
       "  ⋮  │        ⋮                    ⋮                       ⋮                   ⋱\n",
       " 325 │             826               0.00120817                      0\n",
       " 326 │             778               0.00128421                      0         ⋯\n",
       " 327 │             772               0.00128582                      0\n",
       " 328 │             835               0.00117562                      0\n",
       " 329 │             902               0.00110562                      0\n",
       " 330 │             829               0.00119475                      0         ⋯\n",
       " 331 │             850               0.00117213                      0\n",
       " 332 │             688               0.00119887                      0\n",
       " 333 │             939               0.000772769                     0\n",
       " 334 │             868               0.00115232                      0         ⋯\n",
       "\u001b[36m                                                109 columns and 313 rows omitted\u001b[0m"
      ]
     },
     "execution_count": 20,
     "metadata": {},
     "output_type": "execute_result"
    }
   ],
   "source": [
    "DATA = CSV.File(CSV_PATH) |> DataFrame"
   ]
  },
  {
   "cell_type": "code",
   "execution_count": null,
   "metadata": {},
   "outputs": [],
   "source": []
  }
 ],
 "metadata": {
  "kernelspec": {
   "display_name": "Julia 1.5.3",
   "language": "julia",
   "name": "julia-1.5"
  },
  "language_info": {
   "file_extension": ".jl",
   "mimetype": "application/julia",
   "name": "julia",
   "version": "1.5.3"
  }
 },
 "nbformat": 4,
 "nbformat_minor": 4
}
