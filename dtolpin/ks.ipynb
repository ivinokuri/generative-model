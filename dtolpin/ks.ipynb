{
 "cells": [
  {
   "cell_type": "code",
   "execution_count": 21,
   "id": "c48b67d4-81ee-4dce-8407-d1c167104ab7",
   "metadata": {},
   "outputs": [],
   "source": [
    "import numpy as np\n",
    "import matplotlib.pyplot as plt\n",
    "from scipy.stats import ks_2samp"
   ]
  },
  {
   "cell_type": "code",
   "execution_count": 187,
   "id": "8c9bf1c7-b640-4c4c-9ca3-9d614580f957",
   "metadata": {},
   "outputs": [],
   "source": [
    "DIR=\"../robot-data/new_data\"\n",
    "\n",
    "# SCENARIO=\"build\" \n",
    "# SCENARIO=\"cans\"\n",
    "SCENARIO=\"pick\"\n",
    "# FAILURE=\"laser_fault\" \n",
    "# FAILURE=\"obs\"\n",
    "# FAILURE=\"miss_cup\"\n",
    "# FAILURE=\"restricted_vision\"\n",
    "FAILURE=\"stolen\"\n",
    "# FAILURE=\"stuck\"\n",
    "INF=0\n",
    "SUP=100"
   ]
  },
  {
   "cell_type": "code",
   "execution_count": 188,
   "id": "1ff17004-d21a-4025-8c9a-b112aa38f52d",
   "metadata": {},
   "outputs": [],
   "source": [
    "runs = []\n",
    "for x in range(100):\n",
    "    try:\n",
    "        runs.append(np.genfromtxt(f\"{DIR}/normal/{SCENARIO}/counts_only/{x+1}.csv\", \n",
    "                                  delimiter=\",\", skip_header=1))\n",
    "    except:\n",
    "        pass\n",
    "all_runs = np.concatenate([np.reshape(r, -1) for r in runs])"
   ]
  },
  {
   "cell_type": "code",
   "execution_count": 189,
   "id": "71fe81d7-baee-4c0e-9587-a45c3c7b4608",
   "metadata": {},
   "outputs": [
    {
     "data": {
      "text/plain": [
       "(0.0, 100.0)"
      ]
     },
     "execution_count": 189,
     "metadata": {},
     "output_type": "execute_result"
    },
    {
     "data": {
      "image/png": "[encoded data removed]",
      "text/plain": [
       "<Figure size 432x288 with 1 Axes>"
      ]
     },
     "metadata": {
      "needs_background": "light"
     },
     "output_type": "display_data"
    }
   ],
   "source": [
    "for i, r in enumerate(runs):\n",
    "    plt.hist(np.reshape(r[np.logical_and(r>INF, r<SUP)], -1), bins=100, density=True)\n",
    "plt.xlim((INF,SUP))"
   ]
  },
  {
   "cell_type": "code",
   "execution_count": 190,
   "id": "6438f090-5272-44b7-9bf7-c4d8450abe1a",
   "metadata": {},
   "outputs": [],
   "source": [
    "faults = []\n",
    "for x in range(100):\n",
    "    try:\n",
    "        faults.append(np.genfromtxt(f\"{DIR}/test/{SCENARIO}/{FAILURE}/counts_only/{x+1}.csv\", \n",
    "                                  delimiter=\",\", skip_header=1))\n",
    "    except:\n",
    "        pass\n",
    "# all_faults = np.concatenate([np.reshape(r, -1) for r in faults])"
   ]
  },
  {
   "cell_type": "code",
   "execution_count": 191,
   "id": "93c5f72e-3b03-4cfc-bd8c-e41768af15cd",
   "metadata": {},
   "outputs": [
    {
     "data": {
      "text/plain": [
       "(0.0, 100.0)"
      ]
     },
     "execution_count": 191,
     "metadata": {},
     "output_type": "execute_result"
    },
    {
     "data": {
      "image/png": "[encoded data removed]",
      "text/plain": [
       "<Figure size 432x288 with 1 Axes>"
      ]
     },
     "metadata": {
      "needs_background": "light"
     },
     "output_type": "display_data"
    }
   ],
   "source": [
    "for i, f in enumerate(faults):\n",
    "    plt.hist(np.reshape(f[np.logical_and(f>INF, f<SUP)], -1), bins=100, density=True)\n",
    "plt.xlim((INF, SUP))"
   ]
  },
  {
   "cell_type": "code",
   "execution_count": null,
   "id": "63619327-c182-41fb-a69f-377ac4f5db43",
   "metadata": {},
   "outputs": [],
   "source": [
    "for i, r in enumerate(faults):\n",
    "    f = faults[i]\n",
    "    plt.hist(np.reshape(f[np.logical_and(f>INF, f<SUP)], -1), bins='auto', color='red', density=True)\n",
    "    \n",
    "for i, r in enumerate(runs):\n",
    "    r = runs[i]\n",
    "    plt.hist(np.reshape(r[np.logical_and(r>INF, r<SUP)], -1), bins='auto',  alpha=2/len(runs), density=True)\n"
   ]
  },
  {
   "cell_type": "code",
   "execution_count": 193,
   "id": "8e312c35-9120-455d-8b5a-c39f020b0ce2",
   "metadata": {},
   "outputs": [],
   "source": [
    "n = 2\n",
    "ks_runs_runs = []\n",
    "for j, rj in enumerate(runs):\n",
    "    other_runs = np.concatenate([np.reshape(runs[i], -1) for i in range(len(runs)) if i != j])\n",
    "    ks_runs_runs.append(ks_2samp(np.reshape(other_runs, -1), np.reshape(rj, -1)).statistic)\n",
    "ks_runs_faults = []\n",
    "for j, fj in enumerate(faults):\n",
    "    fj = fj[len(fj)*(n-2)//3:]\n",
    "    ks_runs_faults.append(ks_2samp(np.reshape(all_runs, -1), np.reshape(fj, -1)).statistic)"
   ]
  },
  {
   "cell_type": "code",
   "execution_count": 194,
   "id": "389fff3e-3f83-45bb-bb3c-2b7f49c6fabe",
   "metadata": {},
   "outputs": [
    {
     "data": {
      "text/plain": [
       "(array([ 409.29925293,    0.        ,    0.        ,    0.        ,\n",
       "           0.        ,    0.        ,    0.        ,    0.        ,\n",
       "           0.        ,    0.        ,    0.        ,    0.        ,\n",
       "        1227.8977588 ,    0.        ,    0.        ,    0.        ,\n",
       "           0.        ,    0.        ,    0.        ,    0.        ,\n",
       "           0.        ,    0.        ,    0.        ,    0.        ,\n",
       "           0.        ,    0.        ,    0.        ,    0.        ,\n",
       "         409.29925293]),\n",
       " array([0.07159612, 0.07208476, 0.0725734 , 0.07306204, 0.07355068,\n",
       "        0.07403932, 0.07452796, 0.0750166 , 0.07550524, 0.07599388,\n",
       "        0.07648252, 0.07697116, 0.0774598 , 0.07794844, 0.07843708,\n",
       "        0.07892572, 0.07941436, 0.079903  , 0.08039164, 0.08088028,\n",
       "        0.08136892, 0.08185756, 0.0823462 , 0.08283484, 0.08332348,\n",
       "        0.08381212, 0.08430076, 0.0847894 , 0.08527804, 0.08576668]),\n",
       " <BarContainer object of 29 artists>)"
      ]
     },
     "execution_count": 194,
     "metadata": {},
     "output_type": "execute_result"
    },
    {
     "data": {
      "image/png": "[encoded data removed]",
      "text/plain": [
       "<Figure size 432x288 with 1 Axes>"
      ]
     },
     "metadata": {
      "needs_background": "light"
     },
     "output_type": "display_data"
    }
   ],
   "source": [
    "plt.hist(ks_runs_runs, bins=\"auto\", density=True)\n",
    "plt.hist(ks_runs_faults, bins=\"auto\", density=True, alpha=0.5)"
   ]
  },
  {
   "cell_type": "code",
   "execution_count": 195,
   "id": "d25ca657-1472-47bf-b20f-0e9e863b1306",
   "metadata": {},
   "outputs": [],
   "source": [
    "ks_faults_faults = []\n",
    "for j, rj in enumerate(faults):\n",
    "    other_faults = np.concatenate([np.reshape(faults[i], -1) for i in range(len(faults)) if i != j])\n",
    "    ks_faults_faults.append(ks_2samp(np.reshape(other_faults, -1), np.reshape(rj, -1)).statistic)\n"
   ]
  },
  {
   "cell_type": "code",
   "execution_count": 196,
   "id": "e5f68fad-f04d-4b8b-9e6c-553d164ea0b2",
   "metadata": {},
   "outputs": [
    {
     "data": {
      "image/png": "[encoded data removed]",
      "text/plain": [
       "<Figure size 432x288 with 1 Axes>"
      ]
     },
     "metadata": {
      "needs_background": "light"
     },
     "output_type": "display_data"
    }
   ],
   "source": [
    "plt.hist(ks_faults_faults, label=\"faults vs faults\", color=\"gray\")\n",
    "plt.hist(ks_runs_runs, label=\"normals vs normals\", alpha=0.5)\n",
    "plt.hist(ks_runs_faults, label=\"faults vs normal\", alpha=0.5)\n",
    "plt.legend()\n",
    "_=_"
   ]
  },
  {
   "cell_type": "code",
   "execution_count": 197,
   "id": "37136352-20ce-4b55-852e-887529ecdc1d",
   "metadata": {},
   "outputs": [
    {
     "data": {
      "text/plain": [
       "14"
      ]
     },
     "execution_count": 197,
     "metadata": {},
     "output_type": "execute_result"
    }
   ],
   "source": [
    "len(ks_runs_runs)"
   ]
  },
  {
   "cell_type": "code",
   "execution_count": 198,
   "id": "acaf4f96-ae47-42d2-aece-c170300fe5d0",
   "metadata": {},
   "outputs": [
    {
     "data": {
      "text/plain": [
       "0"
      ]
     },
     "execution_count": 198,
     "metadata": {},
     "output_type": "execute_result"
    }
   ],
   "source": [
    "len([ks for ks in ks_runs_faults if ks < 0.057])"
   ]
  },
  {
   "cell_type": "code",
   "execution_count": 199,
   "id": "6cf2a770-fb31-4e8c-adb8-49d970e61af4",
   "metadata": {},
   "outputs": [
    {
     "data": {
      "text/plain": [
       "[0.013509069434416654,\n",
       " 0.013604763056672686,\n",
       " 0.013605551801814775,\n",
       " 0.018044433396883663,\n",
       " 0.021561272210903315,\n",
       " 0.02234009869404696,\n",
       " 0.025175316860795105,\n",
       " 0.03147011418766732,\n",
       " 0.03418180851166697,\n",
       " 0.0407414304724234,\n",
       " 0.04729817688924398,\n",
       " 0.055327406834798865,\n",
       " 0.05723755163078226,\n",
       " 0.07147529396645891]"
      ]
     },
     "execution_count": 199,
     "metadata": {},
     "output_type": "execute_result"
    }
   ],
   "source": [
    "sorted(ks_runs_runs)"
   ]
  },
  {
   "cell_type": "code",
   "execution_count": null,
   "id": "21ca910a-e110-4237-8d8a-88cea41e04c3",
   "metadata": {},
   "outputs": [],
   "source": []
  },
  {
   "cell_type": "code",
   "execution_count": null,
   "id": "469f3d7e-bc47-40f2-b7d3-d08e4679a1e9",
   "metadata": {},
   "outputs": [],
   "source": []
  }
 ],
 "metadata": {
  "kernelspec": {
   "display_name": "Python 3 (ipykernel)",
   "language": "python",
   "name": "python3"
  },
  "language_info": {
   "codemirror_mode": {
    "name": "ipython",
    "version": 3
   },
   "file_extension": ".py",
   "mimetype": "text/x-python",
   "name": "python",
   "nbconvert_exporter": "python",
   "pygments_lexer": "ipython3",
   "version": "3.10.2"
  }
 },
 "nbformat": 4,
 "nbformat_minor": 5
}
