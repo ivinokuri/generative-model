{
 "cells": [
  {
   "cell_type": "code",
   "execution_count": 3,
   "id": "c48b67d4-81ee-4dce-8407-d1c167104ab7",
   "metadata": {},
   "outputs": [],
   "source": [
    "import numpy as np\n",
    "import matplotlib.pyplot as plt\n",
    "from scipy.stats import ks_2samp"
   ]
  },
  {
   "cell_type": "code",
   "execution_count": 4,
   "id": "8c9bf1c7-b640-4c4c-9ca3-9d614580f957",
   "metadata": {},
   "outputs": [],
   "source": [
    "DIR=\"../robot-data/new_data\"\n",
    "\n",
    "SCENARIO=\"build\" \n",
    "# SCENARIO=\"cans\"\n",
    "FAILURE=\"laser_fault\" \n",
    "# FAILURE=\"obs\"\n",
    "INF=0\n",
    "SUP=200"
   ]
  },
  {
   "cell_type": "code",
   "execution_count": 5,
   "id": "1ff17004-d21a-4025-8c9a-b112aa38f52d",
   "metadata": {},
   "outputs": [],
   "source": [
    "runs = []\n",
    "for x in range(100):\n",
    "    try:\n",
    "        runs.append(np.genfromtxt(f\"{DIR}/normal/{SCENARIO}/counts_only/counts_normal_{SCENARIO}{x+1}.csv\", \n",
    "                                  delimiter=\",\", skip_header=1))\n",
    "    except:\n",
    "        pass\n",
    "all_runs = np.concatenate([np.reshape(r, -1) for r in runs])"
   ]
  },
  {
   "cell_type": "code",
   "execution_count": 11,
   "id": "71fe81d7-baee-4c0e-9587-a45c3c7b4608",
   "metadata": {},
   "outputs": [
    {
     "data": {
      "text/plain": [
       "(0.0, 200.0)"
      ]
     },
     "execution_count": 11,
     "metadata": {},
     "output_type": "execute_result"
    },
    {
     "data": {
      "image/png": "[encoded data removed]",
      "text/plain": [
       "<Figure size 432x288 with 1 Axes>"
      ]
     },
     "metadata": {
      "needs_background": "light"
     },
     "output_type": "display_data"
    }
   ],
   "source": [
    "for i, r in enumerate(runs):\n",
    "    plt.hist(np.reshape(r[np.logical_and(r>INF, r<SUP)], -1), bins=100)\n",
    "plt.xlim((INF,SUP))"
   ]
  },
  {
   "cell_type": "code",
   "execution_count": 8,
   "id": "6438f090-5272-44b7-9bf7-c4d8450abe1a",
   "metadata": {},
   "outputs": [],
   "source": [
    "faults = []\n",
    "for x in range(100):\n",
    "    try:\n",
    "        faults.append(np.genfromtxt(f\"{DIR}/test/{FAILURE}/{SCENARIO}/counts_only/counts_{FAILURE}_{SCENARIO}{x+1}.csv\", \n",
    "                                  delimiter=\",\", skip_header=1))\n",
    "    except:\n",
    "        pass\n",
    "# all_faults = np.concatenate([np.reshape(r, -1) for r in faults])"
   ]
  },
  {
   "cell_type": "code",
   "execution_count": 12,
   "id": "93c5f72e-3b03-4cfc-bd8c-e41768af15cd",
   "metadata": {},
   "outputs": [
    {
     "data": {
      "text/plain": [
       "(0.0, 200.0)"
      ]
     },
     "execution_count": 12,
     "metadata": {},
     "output_type": "execute_result"
    },
    {
     "data": {
      "image/png": "[encoded data removed]",
      "text/plain": [
       "<Figure size 432x288 with 1 Axes>"
      ]
     },
     "metadata": {
      "needs_background": "light"
     },
     "output_type": "display_data"
    }
   ],
   "source": [
    "for i, f in enumerate(faults):\n",
    "    plt.hist(np.reshape(f[np.logical_and(f>INF, f<SUP)], -1), bins=100)\n",
    "plt.xlim((INF, SUP))"
   ]
  },
  {
   "cell_type": "code",
   "execution_count": 13,
   "id": "63619327-c182-41fb-a69f-377ac4f5db43",
   "metadata": {},
   "outputs": [
    {
     "data": {
      "image/png": "[encoded data removed]",
      "text/plain": [
       "<Figure size 432x288 with 1 Axes>"
      ]
     },
     "metadata": {
      "needs_background": "light"
     },
     "output_type": "display_data"
    }
   ],
   "source": [
    "for i, r in enumerate(faults):\n",
    "    f = faults[i]\n",
    "    plt.hist(np.reshape(f[np.logical_and(f>INF, f<SUP)], -1), bins='auto', color='red', density=True)\n",
    "    \n",
    "for i, r in enumerate(runs):\n",
    "    r = runs[i]\n",
    "    plt.hist(np.reshape(r[np.logical_and(r>INF, r<SUP)], -1), bins='auto',  alpha=0.25, density=True)\n"
   ]
  },
  {
   "cell_type": "code",
   "execution_count": 14,
   "id": "8e312c35-9120-455d-8b5a-c39f020b0ce2",
   "metadata": {},
   "outputs": [],
   "source": [
    "ks_runs = []\n",
    "for j, rj in enumerate(runs):\n",
    "    ks_runs.append(ks_2samp(np.reshape(all_runs, -1), np.reshape(rj, -1)).statistic)\n",
    "ks_faults = []\n",
    "for j, fj in enumerate(faults):\n",
    "    ks_faults.append(ks_2samp(np.reshape(all_runs, -1), np.reshape(fj, -1)).statistic)"
   ]
  },
  {
   "cell_type": "code",
   "execution_count": 19,
   "id": "389fff3e-3f83-45bb-bb3c-2b7f49c6fabe",
   "metadata": {},
   "outputs": [
    {
     "data": {
      "text/plain": [
       "(array([698.37296621, 698.37296621, 698.37296621]),\n",
       " array([0.00971543, 0.01019273, 0.01067003, 0.01114733]),\n",
       " <BarContainer object of 3 artists>)"
      ]
     },
     "execution_count": 19,
     "metadata": {},
     "output_type": "execute_result"
    },
    {
     "data": {
      "image/png": "[encoded data removed]",
      "text/plain": [
       "<Figure size 432x288 with 1 Axes>"
      ]
     },
     "metadata": {
      "needs_background": "light"
     },
     "output_type": "display_data"
    }
   ],
   "source": [
    "plt.hist(ks_runs, bins=\"auto\", density=True)\n",
    "plt.hist(ks_faults, bins=\"auto\", density=True, alpha=0.5)"
   ]
  },
  {
   "cell_type": "code",
   "execution_count": null,
   "id": "d25ca657-1472-47bf-b20f-0e9e863b1306",
   "metadata": {},
   "outputs": [],
   "source": []
  }
 ],
 "metadata": {
  "kernelspec": {
   "display_name": "Python 3 (ipykernel)",
   "language": "python",
   "name": "python3"
  },
  "language_info": {
   "codemirror_mode": {
    "name": "ipython",
    "version": 3
   },
   "file_extension": ".py",
   "mimetype": "text/x-python",
   "name": "python",
   "nbconvert_exporter": "python",
   "pygments_lexer": "ipython3",
   "version": "3.10.2"
  }
 },
 "nbformat": 4,
 "nbformat_minor": 5
}
