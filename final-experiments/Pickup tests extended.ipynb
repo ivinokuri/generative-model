{
 "cells": [
  {
   "cell_type": "code",
   "execution_count": 1,
   "id": "d4aa37cf",
   "metadata": {},
   "outputs": [],
   "source": [
    "import numpy as np\n",
    "import os\n",
    "import matplotlib.pyplot as plt\n",
    "from scipy.stats import ks_2samp"
   ]
  },
  {
   "cell_type": "code",
   "execution_count": 4,
   "id": "c5a146c5",
   "metadata": {},
   "outputs": [],
   "source": [
    "# Consts\n",
    "INF=0\n",
    "SUP=200"
   ]
  },
  {
   "cell_type": "code",
   "execution_count": 13,
   "id": "f00ba326",
   "metadata": {},
   "outputs": [],
   "source": [
    "def load_directory(directory, file_prefix):\n",
    "    runs = []\n",
    "    for i in range(len(os.listdir(directory))):\n",
    "        f = os.path.join(directory, file_prefix + str(i + 1) + \".csv\")\n",
    "        if os.path.isfile(f):\n",
    "            file_data = np.genfromtxt(f, delimiter=\",\", skip_header=1)\n",
    "            runs.append(file_data)\n",
    "            print(file_data.shape)\n",
    "    return runs, np.concatenate([np.reshape(r, -1) for r in runs])\n",
    "\n",
    "def plot_hist(runs, title):\n",
    "    fig, axs = plt.subplots(1)\n",
    "    for i, r in enumerate(runs):\n",
    "        axs.hist(np.reshape(r[np.logical_and(r>INF, r<SUP)], -1), bins='auto', density=True)\n",
    "    axs.set_title(title)\n",
    "    axs.set_xlim((INF,SUP))\n",
    "    \n",
    "def ks_test(runs, more_runs=[]):\n",
    "    ks_test = []\n",
    "    if len(more_runs) == 0: # Compare to itself\n",
    "        for j, rj in enumerate(runs):\n",
    "            other_runs = np.concatenate([np.reshape(runs[i], -1) for i in range(len(runs)) if i != j])\n",
    "            ks_test.append(ks_2samp(np.reshape(other_runs, -1), np.reshape(rj, -1)).statistic)\n",
    "    else: # Compare to other\n",
    "        n = 2\n",
    "        for j, rj in enumerate(runs):\n",
    "            rj = rj[len(rj)*(n-2)//3:]\n",
    "            ks_test.append(ks_2samp(np.reshape(more_runs, -1), np.reshape(rj, -1)).statistic)\n",
    "    return ks_test\n",
    "\n",
    "def plot_ks_test_results(norm_norm, norm_anomaly, anomaly_anomaly, title=''):\n",
    "    plt.title(title)\n",
    "    plt.hist(ks_normal_normal, bins=\"auto\", density=True, alpha=0.5, label='normal vs normal')\n",
    "    plt.hist(ks_normal_anomaly, bins=\"auto\", density=True, alpha=0.5, label='anomaly vs normal')\n",
    "    plt.hist(ks_anomaly_anomaly, bins=\"auto\", density=True, alpha=0.5, label='anomaly vs anomaly')\n",
    "    plt.legend()"
   ]
  },
  {
   "cell_type": "code",
   "execution_count": 14,
   "id": "f01faae1",
   "metadata": {},
   "outputs": [
    {
     "name": "stdout",
     "output_type": "stream",
     "text": [
      "(100, 79)\n",
      "(119, 79)\n",
      "(92, 79)\n",
      "(104, 79)\n",
      "(67, 79)\n",
      "(158, 79)\n",
      "(179, 79)\n",
      "(112, 79)\n",
      "(79, 79)\n",
      "(141, 79)\n",
      "(136, 79)\n",
      "(152, 79)\n",
      "(105, 79)\n",
      "(132, 79)\n",
      "(67, 79)\n",
      "(111, 79)\n",
      "(51, 79)\n",
      "(57, 79)\n"
     ]
    },
    {
     "data": {
      "image/png": "[encoded data removed]",
      "text/plain": [
       "<Figure size 432x288 with 1 Axes>"
      ]
     },
     "metadata": {
      "needs_background": "light"
     },
     "output_type": "display_data"
    },
    {
     "data": {
      "image/png": "[encoded data removed]",
      "text/plain": [
       "<Figure size 432x288 with 1 Axes>"
      ]
     },
     "metadata": {
      "needs_background": "light"
     },
     "output_type": "display_data"
    }
   ],
   "source": [
    "TITLE_NORMAL = 'Pick normal'\n",
    "TITLE_ANOMALY = 'Pick and restricted vision'\n",
    "NORM_COUNTS_PATH = './data/normal/pick'\n",
    "NORM_FILE_PREFIX = 'pick_normal'\n",
    "ANOMALY_COUNTS_PATH = './data/anomaly/pick/restricted_vision'\n",
    "ANOM_FILE_PREFIX = 'counts_restricted_vision'\n",
    "\n",
    "runs, all_runs = load_directory(NORM_COUNTS_PATH, NORM_FILE_PREFIX)\n",
    "plot_hist(runs, TITLE_NORMAL)\n",
    "\n",
    "anomaly_runs, all_anomaly_runs = load_directory(ANOMALY_COUNTS_PATH, ANOM_FILE_PREFIX)\n",
    "plot_hist(anomaly_runs, TITLE_ANOMALY)\n",
    "\n"
   ]
  },
  {
   "cell_type": "code",
   "execution_count": 15,
   "id": "7e0ffa5a",
   "metadata": {},
   "outputs": [
    {
     "data": {
      "image/png": "[encoded data removed]",
      "text/plain": [
       "<Figure size 432x288 with 1 Axes>"
      ]
     },
     "metadata": {
      "needs_background": "light"
     },
     "output_type": "display_data"
    }
   ],
   "source": [
    "ks_normal_normal = ks_test(runs)\n",
    "ks_normal_anomaly = ks_test(anomaly_runs, all_runs)\n",
    "ks_anomaly_anomaly = ks_test(anomaly_runs)\n",
    "plot_ks_test_results(ks_normal_normal, ks_normal_anomaly, ks_anomaly_anomaly, TITLE_ANOMALY)"
   ]
  },
  {
   "cell_type": "code",
   "execution_count": null,
   "id": "3e3950a9",
   "metadata": {},
   "outputs": [],
   "source": []
  }
 ],
 "metadata": {
  "kernelspec": {
   "display_name": "Python 3",
   "language": "python",
   "name": "python3"
  },
  "language_info": {
   "codemirror_mode": {
    "name": "ipython",
    "version": 3
   },
   "file_extension": ".py",
   "mimetype": "text/x-python",
   "name": "python",
   "nbconvert_exporter": "python",
   "pygments_lexer": "ipython3",
   "version": "3.7.10"
  }
 },
 "nbformat": 4,
 "nbformat_minor": 5
}
