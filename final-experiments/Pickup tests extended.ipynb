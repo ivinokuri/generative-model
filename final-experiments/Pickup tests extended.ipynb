{
 "cells": [
  {
   "cell_type": "code",
   "execution_count": 1,
   "id": "d4aa37cf",
   "metadata": {},
   "outputs": [],
   "source": [
    "import numpy as np\n",
    "import os\n",
    "import matplotlib.pyplot as plt\n",
    "from scipy.stats import ks_2samp\n",
    "import pandas as pd"
   ]
  },
  {
   "cell_type": "code",
   "execution_count": 2,
   "id": "c5a146c5",
   "metadata": {},
   "outputs": [],
   "source": [
    "# Consts\n",
    "INF=0\n",
    "SUP=200"
   ]
  },
  {
   "cell_type": "code",
   "execution_count": 29,
   "id": "f00ba326",
   "metadata": {},
   "outputs": [],
   "source": [
    "def load_directory(directory, file_prefix):\n",
    "    runs = []\n",
    "    for i in range(len(os.listdir(directory))):\n",
    "        f = os.path.join(directory, file_prefix + str(i + 1) + \".csv\")\n",
    "        if os.path.isfile(f):\n",
    "            file_data = np.genfromtxt(f, delimiter=\",\", skip_header=1)\n",
    "            runs.append(file_data)\n",
    "    return runs, np.concatenate([np.reshape(r, -1) for r in runs])\n",
    "\n",
    "def plot_hist(runs, title):\n",
    "    fig, axs = plt.subplots(1)\n",
    "    for i, r in enumerate(runs):\n",
    "        axs.hist(np.reshape(r[np.logical_and(r>INF, r<SUP)], -1), bins='auto', density=True)\n",
    "    axs.set_title(title)\n",
    "    axs.set_xlim((INF,SUP))\n",
    "    \n",
    "def ks_test(runs, more_runs=[]):\n",
    "    ks_test = []\n",
    "    p_values = []\n",
    "    if len(more_runs) == 0: # Compare to itself\n",
    "        for j, rj in enumerate(runs):\n",
    "            other_runs = np.concatenate([np.reshape(runs[i], -1) for i in range(len(runs)) if i != j])\n",
    "            ks_test.append(ks_2samp(np.reshape(other_runs, -1), np.reshape(rj, -1)).statistic)\n",
    "            p_values.append(ks_2samp(np.reshape(other_runs, -1), np.reshape(rj, -1)).pvalue)\n",
    "    else: # Compare to other\n",
    "        n = 2\n",
    "        for j, rj in enumerate(runs):\n",
    "            rj = rj[len(rj)*(n-2)//3:]\n",
    "            ks_test.append(ks_2samp(np.reshape(more_runs, -1), np.reshape(rj, -1)).statistic)\n",
    "            p_values.append(ks_2samp(np.reshape(more_runs, -1), np.reshape(rj, -1)).pvalue)\n",
    "#     print('ks stat', ks_test)\n",
    "#     print('p value', p_values)\n",
    "    df = pd.DataFrame(np.reshape([ks_test, p_values], (len(ks_test), 2)), columns=['ks stat', 'p value'])\n",
    "    print(df)\n",
    "    return ks_test\n",
    "\n",
    "def plot_ks_test_results(norm_norm, norm_anomaly, anomaly_anomaly, title=''):\n",
    "    plt.title(title)\n",
    "    plt.hist(norm_norm, bins=20, density=True, alpha=0.5, label='normal vs normal')\n",
    "    plt.hist(norm_anomaly, bins=20, density=True, alpha=0.5, label='anomaly vs normal')\n",
    "    plt.hist(anomaly_anomaly, bins=20, density=True, alpha=0.5, label='anomaly vs anomaly')\n",
    "    plt.legend()\n",
    "    \n",
    "def threshold_dist(norm_norm, threshold_percent=0.95):\n",
    "    sorted_n_n = norm_norm.copy()\n",
    "    sorted_n_n.sort(reverse=True)\n",
    "    threshold_index = int(len(sorted_n_n) * threshold_percent)\n",
    "    avg_dist = np.average(sorted_n_n[:threshold_index])\n",
    "    print('Average distance:', avg_dist)\n",
    "    return avg_dist\n",
    "\n",
    "def detect_anomalies(norm_anomaly, threshold):\n",
    "    count_anom = [1 for i in norm_anomaly if i >= avg_dist]\n",
    "    print('Total anomalies detected:', sum(count_anom), ' accuracy:' + str(sum(count_anom)*100/len(norm_anomaly)) + '%')\n",
    "    "
   ]
  },
  {
   "cell_type": "code",
   "execution_count": 14,
   "id": "f01faae1",
   "metadata": {},
   "outputs": [
    {
     "data": {
      "image/png": "[encoded data removed]",
      "text/plain": [
       "<Figure size 432x288 with 1 Axes>"
      ]
     },
     "metadata": {
      "needs_background": "light"
     },
     "output_type": "display_data"
    },
    {
     "data": {
      "image/png": "[encoded data removed]",
      "text/plain": [
       "<Figure size 432x288 with 1 Axes>"
      ]
     },
     "metadata": {
      "needs_background": "light"
     },
     "output_type": "display_data"
    }
   ],
   "source": [
    "TITLE_NORMAL = 'Pick normal'\n",
    "TITLE_ANOMALY = 'Pick and restricted vision'\n",
    "NORM_COUNTS_PATH = './data/normal/pick'\n",
    "NORM_FILE_PREFIX = 'pick_normal'\n",
    "ANOMALY_COUNTS_PATH = './data/anomaly/pick/restricted_vision'\n",
    "ANOM_FILE_PREFIX = 'counts_restricted_vision'\n",
    "\n",
    "runs, all_runs = load_directory(NORM_COUNTS_PATH, NORM_FILE_PREFIX)\n",
    "plot_hist(runs, TITLE_NORMAL)\n",
    "\n",
    "anomaly_runs, all_anomaly_runs = load_directory(ANOMALY_COUNTS_PATH, ANOM_FILE_PREFIX)\n",
    "plot_hist(anomaly_runs, TITLE_ANOMALY)\n",
    "\n"
   ]
  },
  {
   "cell_type": "code",
   "execution_count": 19,
   "id": "7e0ffa5a",
   "metadata": {
    "scrolled": false
   },
   "outputs": [
    {
     "name": "stdout",
     "output_type": "stream",
     "text": [
      "         ks stat       p value\n",
      "0   7.147529e-02  2.234010e-02\n",
      "1   5.723755e-02  5.532741e-02\n",
      "2   2.517532e-02  2.156127e-02\n",
      "3   1.804443e-02  3.147011e-02\n",
      "4   1.360476e-02  1.350907e-02\n",
      "5   3.418181e-02  4.074143e-02\n",
      "6   1.360555e-02  4.729818e-02\n",
      "7   1.898890e-33  3.221726e-04\n",
      "8   5.300024e-20  6.060060e-21\n",
      "9   3.135691e-03  5.363887e-05\n",
      "10  5.289159e-04  1.540577e-07\n",
      "11  2.189954e-01  4.785546e-02\n",
      "12  1.862495e-10  3.478413e-16\n",
      "13  1.114021e-01  4.080968e-19\n",
      "         ks stat       p value\n",
      "0   4.698432e-02  3.923597e-02\n",
      "1   2.740328e-02  7.783574e-03\n",
      "2   3.148499e-02  5.882856e-02\n",
      "3   6.300382e-02  1.785802e-02\n",
      "4   1.850813e-02  4.642815e-02\n",
      "5   1.572784e-02  4.435198e-02\n",
      "6   1.123629e-01  4.988039e-02\n",
      "7   6.199065e-02  5.505876e-02\n",
      "8   1.294512e-16  1.615575e-15\n",
      "9   5.604484e-09  9.459101e-01\n",
      "10  2.281677e-06  1.186034e-39\n",
      "11  6.692448e-36  4.285977e-04\n",
      "12  3.168565e-02  2.474205e-11\n",
      "13  2.376471e-01  4.342558e-15\n",
      "14  4.978087e-62  2.760572e-11\n",
      "15  2.950816e-11  2.843259e-13\n",
      "         ks stat       p value\n",
      "0   7.797960e-02  2.354782e-02\n",
      "1   5.101316e-03  2.019050e-02\n",
      "2   6.051438e-02  3.711209e-02\n",
      "3   4.066114e-02  1.660334e-02\n",
      "4   1.183171e-02  2.168086e-02\n",
      "5   1.035024e-02  7.525234e-02\n",
      "6   9.059465e-02  2.512655e-02\n",
      "7   3.717952e-02  3.047784e-02\n",
      "8   7.302557e-45  8.055854e-06\n",
      "9   8.871293e-01  5.040038e-02\n",
      "10  2.559540e-22  7.293596e-16\n",
      "11  4.187711e-15  1.461730e-03\n",
      "12  3.654187e-01  8.395962e-03\n",
      "13  7.451634e-01  1.761236e-42\n",
      "14  2.254524e-40  3.516539e-03\n",
      "15  2.535020e-04  2.324552e-04\n",
      "Threshold range:  Max dist: 0.07147529396645891  Min dist:  0.013509069434416654\n",
      "Anomaly Max dist: 0.1123628991367126  Anomaly Min dist:  0.0077835735414824025\n",
      "Total anomalies detected  2  accuracy  12.5\n"
     ]
    },
    {
     "data": {
      "image/png": "[encoded data removed]",
      "text/plain": [
       "<Figure size 432x288 with 1 Axes>"
      ]
     },
     "metadata": {
      "needs_background": "light"
     },
     "output_type": "display_data"
    }
   ],
   "source": [
    "ks_normal_normal = ks_test(runs)\n",
    "ks_normal_anomaly = ks_test(anomaly_runs, all_runs)\n",
    "ks_anomaly_anomaly = ks_test(anomaly_runs)\n",
    "plot_ks_test_results(ks_normal_normal, ks_normal_anomaly, ks_anomaly_anomaly, TITLE_ANOMALY)\n",
    "print('Threshold range: ', 'Max dist:', max(ks_normal_normal), ' Min dist: ', min(ks_normal_normal))\n",
    "print('Anomaly Max dist:', max(ks_normal_anomaly), ' Anomaly Min dist: ', min(ks_normal_anomaly))\n",
    "count_anom = [1 for i in ks_normal_anomaly if i >= max(ks_normal_normal) or i <= min(ks_normal_normal)]\n",
    "print('Total anomalies detected ', sum(count_anom), ' accuracy ' + str(sum(count_anom)*100/len(ks_normal_anomaly)) + '%')"
   ]
  },
  {
   "cell_type": "code",
   "execution_count": 16,
   "id": "3e3950a9",
   "metadata": {},
   "outputs": [],
   "source": [
    "TITLE_NORMAL = 'Pick normal'\n",
    "TITLE_ANOMALY = 'Pick and miss cup'\n",
    "NORM_COUNTS_PATH = './data/normal/pick'\n",
    "NORM_FILE_PREFIX = 'pick_normal'\n",
    "ANOMALY_COUNTS_PATH = './data/anomaly/pick/miss_cup'\n",
    "ANOM_FILE_PREFIX = 'counts_miss_cup'"
   ]
  },
  {
   "cell_type": "code",
   "execution_count": 17,
   "id": "166b0fce",
   "metadata": {},
   "outputs": [
    {
     "data": {
      "image/png": "[encoded data removed]",
      "text/plain": [
       "<Figure size 432x288 with 1 Axes>"
      ]
     },
     "metadata": {
      "needs_background": "light"
     },
     "output_type": "display_data"
    },
    {
     "data": {
      "image/png": "[encoded data removed]",
      "text/plain": [
       "<Figure size 432x288 with 1 Axes>"
      ]
     },
     "metadata": {
      "needs_background": "light"
     },
     "output_type": "display_data"
    }
   ],
   "source": [
    "runs, all_runs = load_directory(NORM_COUNTS_PATH, NORM_FILE_PREFIX)\n",
    "plot_hist(runs, TITLE_NORMAL)\n",
    "\n",
    "anomaly_runs, all_anomaly_runs = load_directory(ANOMALY_COUNTS_PATH, ANOM_FILE_PREFIX)\n",
    "plot_hist(anomaly_runs, TITLE_ANOMALY)"
   ]
  },
  {
   "cell_type": "code",
   "execution_count": 28,
   "id": "feebbb24",
   "metadata": {},
   "outputs": [
    {
     "name": "stdout",
     "output_type": "stream",
     "text": [
      "         ks stat       p value\n",
      "0   7.147529e-02  2.234010e-02\n",
      "1   5.723755e-02  5.532741e-02\n",
      "2   2.517532e-02  2.156127e-02\n",
      "3   1.804443e-02  3.147011e-02\n",
      "4   1.360476e-02  1.350907e-02\n",
      "5   3.418181e-02  4.074143e-02\n",
      "6   1.360555e-02  4.729818e-02\n",
      "7   1.898890e-33  3.221726e-04\n",
      "8   5.300024e-20  6.060060e-21\n",
      "9   3.135691e-03  5.363887e-05\n",
      "10  5.289159e-04  1.540577e-07\n",
      "11  2.189954e-01  4.785546e-02\n",
      "12  1.862495e-10  3.478413e-16\n",
      "13  1.114021e-01  4.080968e-19\n",
      "         ks stat       p value\n",
      "0   4.698432e-02  3.923597e-02\n",
      "1   2.740328e-02  7.783574e-03\n",
      "2   3.148499e-02  5.882856e-02\n",
      "3   6.300382e-02  1.785802e-02\n",
      "4   1.850813e-02  4.642815e-02\n",
      "5   1.572784e-02  4.435198e-02\n",
      "6   1.123629e-01  4.988039e-02\n",
      "7   6.199065e-02  5.505876e-02\n",
      "8   1.294512e-16  1.615575e-15\n",
      "9   5.604484e-09  9.459101e-01\n",
      "10  2.281677e-06  1.186034e-39\n",
      "11  6.692448e-36  4.285977e-04\n",
      "12  3.168565e-02  2.474205e-11\n",
      "13  2.376471e-01  4.342558e-15\n",
      "14  4.978087e-62  2.760572e-11\n",
      "15  2.950816e-11  2.843259e-13\n",
      "         ks stat       p value\n",
      "0   7.797960e-02  2.354782e-02\n",
      "1   5.101316e-03  2.019050e-02\n",
      "2   6.051438e-02  3.711209e-02\n",
      "3   4.066114e-02  1.660334e-02\n",
      "4   1.183171e-02  2.168086e-02\n",
      "5   1.035024e-02  7.525234e-02\n",
      "6   9.059465e-02  2.512655e-02\n",
      "7   3.717952e-02  3.047784e-02\n",
      "8   7.302557e-45  8.055854e-06\n",
      "9   8.871293e-01  5.040038e-02\n",
      "10  2.559540e-22  7.293596e-16\n",
      "11  4.187711e-15  1.461730e-03\n",
      "12  3.654187e-01  8.395962e-03\n",
      "13  7.451634e-01  1.761236e-42\n",
      "14  2.254524e-40  3.516539e-03\n",
      "15  2.535020e-04  2.324552e-04\n",
      "0.03653820462145713\n",
      "Threshold range:  Max dist: 0.07147529396645891  Min dist:  0.013509069434416654\n",
      "Anomaly Max dist: 0.1123628991367126  Anomaly Min dist:  0.0077835735414824025\n",
      "Total anomalies detected  10  accuracy 62.5%\n"
     ]
    },
    {
     "data": {
      "image/png": "[encoded data removed]",
      "text/plain": [
       "<Figure size 432x288 with 1 Axes>"
      ]
     },
     "metadata": {
      "needs_background": "light"
     },
     "output_type": "display_data"
    }
   ],
   "source": [
    "ks_normal_normal = ks_test(runs)\n",
    "ks_normal_anomaly = ks_test(anomaly_runs, all_runs)\n",
    "ks_anomaly_anomaly = ks_test(anomaly_runs)\n",
    "plot_ks_test_results(ks_normal_normal, ks_normal_anomaly, ks_anomaly_anomaly, TITLE_ANOMALY)\n",
    "sorted_n_n = ks_normal_normal.copy()\n",
    "sorted_n_n.sort(reverse=True)\n",
    "threshold_index = int(np.floor(len(sorted_n_n) * 0.90))\n",
    "print(np.average(sorted_n_n[:threshold_index]))\n",
    "avg_dist = np.average(sorted_n_n[:threshold_index])\n",
    "print('Threshold range: ', 'Max dist:', max(ks_normal_normal), ' Min dist: ', min(ks_normal_normal))\n",
    "print('Anomaly Max dist:', max(ks_normal_anomaly), ' Anomaly Min dist: ', min(ks_normal_anomaly))\n",
    "count_anom = [1 for i in ks_normal_anomaly if i >= avg_dist]\n",
    "print('Total anomalies detected ', sum(count_anom), ' accuracy ' + str(sum(count_anom)*100/len(ks_normal_anomaly)) + '%')"
   ]
  },
  {
   "cell_type": "code",
   "execution_count": null,
   "id": "0e821d30",
   "metadata": {},
   "outputs": [],
   "source": []
  }
 ],
 "metadata": {
  "kernelspec": {
   "display_name": "Python 3",
   "language": "python",
   "name": "python3"
  },
  "language_info": {
   "codemirror_mode": {
    "name": "ipython",
    "version": 3
   },
   "file_extension": ".py",
   "mimetype": "text/x-python",
   "name": "python",
   "nbconvert_exporter": "python",
   "pygments_lexer": "ipython3",
   "version": "3.7.10"
  }
 },
 "nbformat": 4,
 "nbformat_minor": 5
}
